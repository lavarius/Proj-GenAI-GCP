{
 "cells": [
  {
   "cell_type": "markdown",
   "metadata": {},
   "source": [
    "# Installations"
   ]
  },
  {
   "cell_type": "code",
   "execution_count": null,
   "metadata": {},
   "outputs": [],
   "source": [
    "!pip install google-cloud-aiplatform --upgrade"
   ]
  },
  {
   "cell_type": "markdown",
   "metadata": {},
   "source": [
    "# Install the gcloud CLI https://cloud.google.com/sdk/docs/install\n"
   ]
  },
  {
   "cell_type": "markdown",
   "metadata": {},
   "source": [
    "# Auth\n"
   ]
  },
  {
   "cell_type": "code",
   "execution_count": 2,
   "metadata": {},
   "outputs": [],
   "source": [
    "from google.auth import default\n",
    "credentials, project_id = default()"
   ]
  },
  {
   "cell_type": "markdown",
   "metadata": {},
   "source": [
    "# Call the Vertex-AI API"
   ]
  },
  {
   "cell_type": "markdown",
   "metadata": {},
   "source": [
    "Call the Vertex-AI API for the "
   ]
  },
  {
   "cell_type": "code",
   "execution_count": 8,
   "metadata": {},
   "outputs": [
    {
     "name": "stdout",
     "output_type": "stream",
     "text": [
      "Response from Model:  1. **Real Estate**: Use drones to take aerial photos and videos of properties for sale or rent.\n",
      "2. **Construction**: Use drones to monitor construction progress, inspect roofs and other hard-to-reach areas, and create 3D models of building sites.\n",
      "3. **Insurance**: Use drones to assess damage after storms or other disasters, and to inspect roofs and other property for insurance purposes.\n",
      "4. **Agriculture**: Use drones to monitor crop health, identify pests and diseases, and apply pesticides and fertilizers.\n",
      "5. **Energy**: Use drones to inspect power lines, wind turbines, and other energy infrastructure.\n",
      "6. **Mining**: Use drones to survey mining sites, monitor equipment, and track inventory.\n",
      "7. **Retail**: Use drones to deliver packages, inventory shelves, and track customer traffic.\n",
      "8. **Transportation**: Use drones to inspect roads, bridges, and other transportation infrastructure.\n",
      "9. **Emergency Services**: Use drones to search for missing persons, assess damage after disasters, and deliver medical supplies.\n",
      "10. **Entertainment**: Use drones to film events, create aerial videos, and provide other entertainment services.\n"
     ]
    }
   ],
   "source": [
    "# Importing some modules from the vertexai library.\n",
    "import vertexai\n",
    "from vertexai.preview.language_models import TextGenerationModel\n",
    "\n",
    "# Initialize the Vertex AI environment with project ID and location\n",
    "vertexai.init(project=\"project-lavarius\", location=\"us-west1\")\n",
    "\n",
    "# Define parameters for the text generation model.\n",
    "parameters = {\n",
    "    \"max_output_tokens\": 2048,  # Set the maximum length of generated text\n",
    "    \"temperature\": 0.5,         # Adjust randomness in text generation. Higher values make the text less predictable\n",
    "    \"top_p\": 0.9,               # Parameter that helps narrow down word choice probability 0<p<1\n",
    "    \"top_k\": 25                 # Limit next word choice to the top 25 most probable options\n",
    "}\n",
    "\n",
    "# Load a pre-trained model for text generation.\n",
    "model = TextGenerationModel.from_pretrained(\"text-bison-32k\")\n",
    "\n",
    "# Generate text based on the provided prompt and parameters.\n",
    "response = model.predict(\n",
    "    \"Give me 10 business use case ideas for small UAV drone services\",\n",
    "    **parameters\n",
    ")\n",
    "\n",
    "# Output the generated text.\n",
    "print(f\"Response from Model: {response.text}\")"
   ]
  }
 ],
 "metadata": {
  "kernelspec": {
   "display_name": "Python 3",
   "language": "python",
   "name": "python3"
  },
  "language_info": {
   "codemirror_mode": {
    "name": "ipython",
    "version": 3
   },
   "file_extension": ".py",
   "mimetype": "text/x-python",
   "name": "python",
   "nbconvert_exporter": "python",
   "pygments_lexer": "ipython3",
   "version": "3.11.8"
  }
 },
 "nbformat": 4,
 "nbformat_minor": 2
}
