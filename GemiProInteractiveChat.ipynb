{
 "cells": [
  {
   "cell_type": "markdown",
   "metadata": {},
   "source": [
    "# Installations and Imports"
   ]
  },
  {
   "cell_type": "code",
   "execution_count": 2,
   "metadata": {},
   "outputs": [],
   "source": [
    "!pip install -q -U google-generativeai google-ai-generativelanguage ipython"
   ]
  },
  {
   "cell_type": "code",
   "execution_count": 3,
   "metadata": {},
   "outputs": [
    {
     "name": "stderr",
     "output_type": "stream",
     "text": [
      "c:\\Users\\MarkBartolo\\OneDrive\\Documents\\GitHub\\Proj-GenAI-GCP\\.venv\\Lib\\site-packages\\tqdm\\auto.py:21: TqdmWarning: IProgress not found. Please update jupyter and ipywidgets. See https://ipywidgets.readthedocs.io/en/stable/user_install.html\n",
      "  from .autonotebook import tqdm as notebook_tqdm\n"
     ]
    }
   ],
   "source": [
    "import textwrap\n",
    "import google.generativeai as genai\n",
    "import google.ai.generativelanguage as glm\n",
    "from IPython.display import Markdown\n",
    "import os"
   ]
  },
  {
   "cell_type": "markdown",
   "metadata": {},
   "source": [
    "# Install the gcloud CLI https://cloud.google.com/sdk/docs/install\n"
   ]
  },
  {
   "cell_type": "markdown",
   "metadata": {},
   "source": [
    "# Auth\n",
    "Make sure you have an API Key from Google MakerSuite https://makersuite.google.com/, or generate it there.\n",
    "Set up your system variable for GEMINI_API_KEY or some other variable name. Or use Google Colab and make it easy."
   ]
  },
  {
   "cell_type": "code",
   "execution_count": 4,
   "metadata": {},
   "outputs": [],
   "source": [
    "# Read API Key from the envrionment variable\n",
    "gemini_api_key = os.getenv(\"GEMINI_API_KEY\")\n",
    "\n",
    "# Configure API Key\n",
    "genai.configure(api_key=gemini_api_key)"
   ]
  },
  {
   "cell_type": "markdown",
   "metadata": {},
   "source": [
    "### List Models"
   ]
  },
  {
   "cell_type": "code",
   "execution_count": 5,
   "metadata": {},
   "outputs": [
    {
     "name": "stdout",
     "output_type": "stream",
     "text": [
      "models/gemini-1.0-pro-latest\n",
      "models/gemini-1.0-pro\n",
      "models/gemini-pro\n",
      "models/gemini-1.0-pro-001\n",
      "models/gemini-1.0-pro-vision-latest\n",
      "models/gemini-pro-vision\n",
      "models/gemini-1.5-pro-latest\n",
      "models/gemini-1.5-pro-001\n",
      "models/gemini-1.5-pro\n",
      "models/gemini-1.5-pro-exp-0801\n",
      "models/gemini-1.5-pro-exp-0827\n",
      "models/gemini-1.5-flash-latest\n",
      "models/gemini-1.5-flash-001\n",
      "models/gemini-1.5-flash-001-tuning\n",
      "models/gemini-1.5-flash\n",
      "models/gemini-1.5-flash-exp-0827\n",
      "models/gemini-1.5-flash-8b-exp-0827\n"
     ]
    }
   ],
   "source": [
    "for m in genai.list_models():\n",
    "    if \"generateContent\" in m.supported_generation_methods:\n",
    "        print(m.name)"
   ]
  },
  {
   "cell_type": "code",
   "execution_count": 6,
   "metadata": {},
   "outputs": [],
   "source": [
    "def to_markdown(text):\n",
    "    text = text.replace(\"•\", \"  *\")\n",
    "    return Markdown(textwrap.indent(text, \"> \", predicate=lambda _: True))"
   ]
  },
  {
   "cell_type": "markdown",
   "metadata": {},
   "source": [
    "## Load Model and Start Chat with Gemini as a Video Expert"
   ]
  },
  {
   "cell_type": "code",
   "execution_count": 7,
   "metadata": {},
   "outputs": [],
   "source": [
    "model = genai.GenerativeModel('gemini-pro')\n",
    "chat = model.start_chat()"
   ]
  },
  {
   "cell_type": "code",
   "execution_count": 8,
   "metadata": {},
   "outputs": [
    {
     "data": {
      "text/markdown": [
       "> **Innovative Approach to Combining Italian Neorealism and Japanese Anime Styles**\n",
       "> \n",
       "> **Visual Elements:**\n",
       "> \n",
       "> * **Gritty Realism:** Embrace the raw and authentic aesthetics of Italian neorealism, capturing everyday life in a candid and unvarnished style.\n",
       "> * **Anime Influences:** Incorporate stylized anime elements such as exaggerated expressions, vibrant color palettes, and fluid character movements.\n",
       "> * **Surreal Juxtapositions:** Create visual tension by juxtaposing realistic and anime elements within the same frame, blurring the boundaries between reality and imagination.\n",
       "> \n",
       "> **Storytelling Methods:**\n",
       "> \n",
       "> * **Social Realism:** Explore the complexities of human experiences within marginalized communities, following protagonists facing economic hardship, social injustice, or personal struggles.\n",
       "> * **Magical Realism:** Infuse the neorealist narrative with fantastical elements inspired by anime, such as supernatural abilities, talking animals, or dreamlike sequences.\n",
       "> * **Non-Linear Narrative:** Utilize anime-inspired techniques of non-linear storytelling, interweaving flashbacks, time jumps, and parallel storylines to unravel the characters' pasts and motivations.\n",
       "> \n",
       "> **Key Implementation:**\n",
       "> \n",
       "> **1. Visual Storytelling:**\n",
       "> * Film the characters in a grounded, handheld style, capturing the essence of their everyday lives.\n",
       "> * Use vibrant color palettes and stylized facial expressions to highlight moments of emotional intensity.\n",
       "> * Incorporate anime-inspired transitions, such as dissolves and montage sequences, to create a sense of fluidity and dreaminess.\n",
       "> \n",
       "> **2. Characterization:**\n",
       "> * Develop relatable and flawed characters rooted in the Italian neorealist tradition.\n",
       "> * Enhance their personalities with exaggerated anime-like mannerisms, such as over-the-top gestures and vocal inflections.\n",
       "> * Explore the contrast between the characters' realistic struggles and their imaginative escapes.\n",
       "> \n",
       "> **3. Social Commentary:**\n",
       "> * Address social issues such as poverty, inequality, and immigration through a neorealist lens.\n",
       "> * Use anime elements as a metaphor for the characters' inner thoughts, dreams, and aspirations.\n",
       "> * Explore how the clash between reality and fantasy can shape the protagonists' experiences.\n",
       "> \n",
       "> **Conclusion:**\n",
       "> \n",
       "> By combining the raw authenticity of Italian neorealism with the fantastical elements of Japanese anime, this innovative approach creates a unique and immersive cinematic experience. It allows filmmakers to explore the complexities of human life both on a grounded and imaginative level, challenging traditional storytelling boundaries and offering audiences a fresh perspective on social issues."
      ],
      "text/plain": [
       "<IPython.core.display.Markdown object>"
      ]
     },
     "execution_count": 8,
     "metadata": {},
     "output_type": "execute_result"
    }
   ],
   "source": [
    "response = chat.send_message(\n",
    "    \"\"\"As a video production expert and film critic who utilizes AI to discover new creative techniques, \n",
    "what is an innovative approach to combining traditional Italian neorealism and Japanese anime styles you would recommend for a short film? \n",
    "Please describe the key visual elements and storytelling methods.\n",
    "\"\"\"\n",
    ")\n",
    "\n",
    "to_markdown(response.text)"
   ]
  },
  {
   "cell_type": "markdown",
   "metadata": {},
   "source": [
    "## Get Chat History"
   ]
  },
  {
   "cell_type": "code",
   "execution_count": 9,
   "metadata": {},
   "outputs": [
    {
     "name": "stdout",
     "output_type": "stream",
     "text": [
      "[parts {\n",
      "  text: \"As a video production expert and film critic who utilizes AI to discover new creative techniques, \\nwhat is an innovative approach to combining traditional Italian neorealism and Japanese anime styles you would recommend for a short film? \\nPlease describe the key visual elements and storytelling methods.\\n\"\n",
      "}\n",
      "role: \"user\"\n",
      ", parts {\n",
      "  text: \"**Innovative Approach to Combining Italian Neorealism and Japanese Anime Styles**\\n\\n**Visual Elements:**\\n\\n* **Gritty Realism:** Embrace the raw and authentic aesthetics of Italian neorealism, capturing everyday life in a candid and unvarnished style.\\n* **Anime Influences:** Incorporate stylized anime elements such as exaggerated expressions, vibrant color palettes, and fluid character movements.\\n* **Surreal Juxtapositions:** Create visual tension by juxtaposing realistic and anime elements within the same frame, blurring the boundaries between reality and imagination.\\n\\n**Storytelling Methods:**\\n\\n* **Social Realism:** Explore the complexities of human experiences within marginalized communities, following protagonists facing economic hardship, social injustice, or personal struggles.\\n* **Magical Realism:** Infuse the neorealist narrative with fantastical elements inspired by anime, such as supernatural abilities, talking animals, or dreamlike sequences.\\n* **Non-Linear Narrative:** Utilize anime-inspired techniques of non-linear storytelling, interweaving flashbacks, time jumps, and parallel storylines to unravel the characters\\' pasts and motivations.\\n\\n**Key Implementation:**\\n\\n**1. Visual Storytelling:**\\n* Film the characters in a grounded, handheld style, capturing the essence of their everyday lives.\\n* Use vibrant color palettes and stylized facial expressions to highlight moments of emotional intensity.\\n* Incorporate anime-inspired transitions, such as dissolves and montage sequences, to create a sense of fluidity and dreaminess.\\n\\n**2. Characterization:**\\n* Develop relatable and flawed characters rooted in the Italian neorealist tradition.\\n* Enhance their personalities with exaggerated anime-like mannerisms, such as over-the-top gestures and vocal inflections.\\n* Explore the contrast between the characters\\' realistic struggles and their imaginative escapes.\\n\\n**3. Social Commentary:**\\n* Address social issues such as poverty, inequality, and immigration through a neorealist lens.\\n* Use anime elements as a metaphor for the characters\\' inner thoughts, dreams, and aspirations.\\n* Explore how the clash between reality and fantasy can shape the protagonists\\' experiences.\\n\\n**Conclusion:**\\n\\nBy combining the raw authenticity of Italian neorealism with the fantastical elements of Japanese anime, this innovative approach creates a unique and immersive cinematic experience. It allows filmmakers to explore the complexities of human life both on a grounded and imaginative level, challenging traditional storytelling boundaries and offering audiences a fresh perspective on social issues.\"\n",
      "}\n",
      "role: \"model\"\n",
      "]\n"
     ]
    }
   ],
   "source": [
    "print(chat.history)"
   ]
  },
  {
   "cell_type": "markdown",
   "metadata": {},
   "source": [
    "Two roles, user an model. This is the conversation between the AI and ourselves."
   ]
  },
  {
   "cell_type": "code",
   "execution_count": 10,
   "metadata": {},
   "outputs": [
    {
     "data": {
      "text/markdown": [
       "> ```python\n",
       "> def lucas(n):\n",
       ">   \"\"\"Calculates the Lucas sequence up to a given number n.\"\"\"\n",
       "> \n",
       ">   # Initialize the sequence with the first two terms.\n",
       ">   lucas = [2, 1]\n",
       "> \n",
       ">   # Calculate the remaining terms of the sequence.\n",
       ">   for i in range(2, n + 1):\n",
       ">     lucas.append(lucas[i - 1] + lucas[i - 2])\n",
       "> \n",
       ">   # Return the sequence.\n",
       ">   return lucas\n",
       "> ```"
      ],
      "text/plain": [
       "<IPython.core.display.Markdown object>"
      ]
     },
     "execution_count": 10,
     "metadata": {},
     "output_type": "execute_result"
    }
   ],
   "source": [
    "code_chat = model.start_chat()\n",
    "\n",
    "response = code_chat.send_message(\n",
    "    \"\"\"Write a function in Python that calculates the Lucas sequence up to a given number n.\n",
    "    The Lucas sequence is similar to the Fibonacci sequence, but it starts with L(0) = 2 and L(1) = 1.\n",
    "    The function should return a list of the sequence.\"\"\"\n",
    ")\n",
    "\n",
    "to_markdown(response.text)"
   ]
  },
  {
   "cell_type": "code",
   "execution_count": 12,
   "metadata": {},
   "outputs": [
    {
     "data": {
      "text/markdown": [
       "> Here is a unit test for the Lucas function:\n",
       "> \n",
       "> ```python\n",
       "> import unittest\n",
       "> \n",
       "> class TestLucas(unittest.TestCase):\n",
       "> \n",
       ">     def test_lucas_sequence(self):\n",
       ">         # Test the Lucas sequence for the first 10 terms.\n",
       ">         self.assertEqual(lucas(10), [2, 1, 3, 4, 7, 11, 18, 29, 47, 76])\n",
       "> \n",
       ">     def test_lucas_sequence_with_zero_terms(self):\n",
       ">         # Test the Lucas sequence with zero terms.\n",
       ">         self.assertEqual(lucas(0), [])\n",
       "> \n",
       ">     def test_lucas_sequence_with_negative_terms(self):\n",
       ">         # Test the Lucas sequence with negative terms.\n",
       ">         with self.assertRaises(ValueError):\n",
       ">             lucas(-1)\n",
       "> ```\n",
       "> \n",
       "> To run the test, you can use the following command:\n",
       "> \n",
       "> ```\n",
       "> python test_lucas.py\n",
       "> ```\n",
       "> \n",
       "> If the test passes, it will print the following output:\n",
       "> \n",
       "> ```\n",
       "> Ran 3 tests in 0.001s\n",
       "> \n",
       "> OK\n",
       "> ```"
      ],
      "text/plain": [
       "<IPython.core.display.Markdown object>"
      ]
     },
     "execution_count": 12,
     "metadata": {},
     "output_type": "execute_result"
    }
   ],
   "source": [
    "response = code_chat.send_message(\"Could you write a unit test for the generated Lucas function?\")\n",
    "\n",
    "to_markdown(response.text)"
   ]
  },
  {
   "cell_type": "code",
   "execution_count": null,
   "metadata": {},
   "outputs": [],
   "source": []
  }
 ],
 "metadata": {
  "kernelspec": {
   "display_name": "Python 3",
   "language": "python",
   "name": "python3"
  },
  "language_info": {
   "codemirror_mode": {
    "name": "ipython",
    "version": 3
   },
   "file_extension": ".py",
   "mimetype": "text/x-python",
   "name": "python",
   "nbconvert_exporter": "python",
   "pygments_lexer": "ipython3",
   "version": "3.11.8"
  }
 },
 "nbformat": 4,
 "nbformat_minor": 2
}
